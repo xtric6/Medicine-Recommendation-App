{
 "cells": [
  {
   "cell_type": "code",
   "execution_count": null,
   "id": "8b953141",
   "metadata": {},
   "outputs": [],
   "source": [
    "#!pip install pdfplumber -q"
   ]
  },
  {
   "cell_type": "code",
   "execution_count": null,
   "id": "ab623ff8",
   "metadata": {},
   "outputs": [],
   "source": [
    "import pandas as pd\n",
    "import pdfplumber #library that willl enable us read the pdf"
   ]
  },
  {
   "cell_type": "code",
   "execution_count": null,
   "id": "e71c37a6",
   "metadata": {},
   "outputs": [],
   "source": [
    "big_list_local = []\n",
    "with pdfplumber.open('List-of-Registered-Locally-Manufactured-Drugs.pdf') as pdf:\n",
    "    for i in range(len(pdf.pages)): #get each page of the pdf\n",
    "        page = pdf.pages[i]\n",
    "        text = page.extract_table() #extract the tables in the pdf\n",
    "        big_list_local.extend(text)\n",
    "    \n",
    "    print(big_list_local)"
   ]
  },
  {
   "cell_type": "code",
   "execution_count": null,
   "id": "32b120ec",
   "metadata": {},
   "outputs": [],
   "source": [
    "big_list_imported = []\n",
    "\n",
    "with pdfplumber.open('List-of-Registered-Imported-Drugs.pdf') as pdf:\n",
    "    for i in range(len(pdf.pages)): #get each page of the pdf\n",
    "        page = pdf.pages[i]\n",
    "        text = page.extract_table() #extract the tables in the pdf\n",
    "        big_list_imported.extend(text)\n",
    "    \n",
    "    print(big_list_imported)"
   ]
  },
  {
   "cell_type": "code",
   "execution_count": null,
   "id": "c20d088f",
   "metadata": {},
   "outputs": [],
   "source": [
    "print(f\"There are {len(big_list_local)} rows contained in the locally manufactured drugs pdf table\")\n",
    "print(f\"There are {len(big_list_imported)} rows contained in the imported drugs pdf table\")"
   ]
  },
  {
   "cell_type": "code",
   "execution_count": null,
   "id": "1c62195f",
   "metadata": {},
   "outputs": [],
   "source": [
    "#Naming the columns to be used in the table dataframe\n",
    "columns = ['S/N','NAME OF PRODUCT','NAFDAC REG. NO','COMPOSITION','DOSAGE FORM, PRESENTATION','NAME & ADDRESS OF APPLICANT','NAME AND ADDRESS OF MANUFACTURER','APPROVAL DATE','EXPIRY DATE']"
   ]
  },
  {
   "cell_type": "code",
   "execution_count": null,
   "id": "598351d8",
   "metadata": {},
   "outputs": [],
   "source": [
    "df_local_drugs = pd.DataFrame(big_list_local[1:],columns=columns)\n",
    "df_local_drugs"
   ]
  },
  {
   "cell_type": "code",
   "execution_count": null,
   "id": "faa2fe2d",
   "metadata": {},
   "outputs": [],
   "source": [
    "df_imported_drugs = pd.DataFrame(big_list_imported[1:],columns=columns)\n",
    "df_imported_drugs"
   ]
  },
  {
   "cell_type": "code",
   "execution_count": null,
   "id": "e9476cd0",
   "metadata": {},
   "outputs": [],
   "source": [
    "#concatinating the two dataframeslist\n",
    "all_drugs = pd.concat([df_local_drugs,df_imported_drugs])"
   ]
  },
  {
   "cell_type": "code",
   "execution_count": null,
   "id": "2f68b154",
   "metadata": {},
   "outputs": [],
   "source": [
    "len(all_drugs)"
   ]
  },
  {
   "cell_type": "code",
   "execution_count": null,
   "id": "84c20953",
   "metadata": {
    "scrolled": true
   },
   "outputs": [],
   "source": [
    "all_drugs.head(20)"
   ]
  },
  {
   "cell_type": "code",
   "execution_count": null,
   "id": "a8c92987",
   "metadata": {},
   "outputs": [],
   "source": [
    "all_drugs = all_drugs.replace(r'\\n',' ',regex=True) #cleaning the dataframe by removing the character \\n"
   ]
  },
  {
   "cell_type": "code",
   "execution_count": null,
   "id": "60b6a69f",
   "metadata": {},
   "outputs": [],
   "source": [
    "#df['NAME OF PRODUCT'].replace(['CPAYNLDICA A CID EXTRA CAPLET'],'PANDA EXTRA CAPLET',inplace=True)\n",
    "all_drugs['NAME OF PRODUCT'] = all_drugs['NAME OF PRODUCT'].replace('OARCAETLY LSALI', 'ACETYSALI')"
   ]
  },
  {
   "cell_type": "code",
   "execution_count": null,
   "id": "c4c0d4bb",
   "metadata": {},
   "outputs": [],
   "source": [
    "all_drugs.to_excel('NAFDAC-DRUG-LIST.xlsx') #further minor cleaning of this data was done on excel workbook"
   ]
  },
  {
   "cell_type": "code",
   "execution_count": null,
   "id": "7c489a6d",
   "metadata": {},
   "outputs": [],
   "source": [
    "all_drugs.to_csv('NAFDAC-DRUG-LIST.csv')"
   ]
  },
  {
   "cell_type": "code",
   "execution_count": null,
   "id": "5614d1f9",
   "metadata": {},
   "outputs": [],
   "source": []
  }
 ],
 "metadata": {
  "kernelspec": {
   "display_name": "Python 3 (ipykernel)",
   "language": "python",
   "name": "python3"
  },
  "language_info": {
   "codemirror_mode": {
    "name": "ipython",
    "version": 3
   },
   "file_extension": ".py",
   "mimetype": "text/x-python",
   "name": "python",
   "nbconvert_exporter": "python",
   "pygments_lexer": "ipython3",
   "version": "3.9.12"
  }
 },
 "nbformat": 4,
 "nbformat_minor": 5
}
